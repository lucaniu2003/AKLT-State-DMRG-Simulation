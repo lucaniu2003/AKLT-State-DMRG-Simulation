{
 "cells": [
  {
   "cell_type": "code",
   "execution_count": 53,
   "metadata": {},
   "outputs": [],
   "source": [
    "using ITensors"
   ]
  },
  {
   "cell_type": "markdown",
   "metadata": {},
   "source": [
    "# Define Parameters"
   ]
  },
  {
   "cell_type": "code",
   "execution_count": 76,
   "metadata": {},
   "outputs": [],
   "source": [
    "# Site number N \n",
    "N = 3;\n",
    "\n",
    "# Spin quantum number S \n",
    "S = 1;\n",
    "\n",
    "# Max number of sweeps\n",
    "max_sweep = 80;\n",
    "\n",
    "# Max number of bond dimensions\n",
    "D_max = 100;\n",
    "\n",
    "# Max number of excited states calculated\n",
    "max_states = 4;\n",
    "\n",
    "# Penalty weight when calculating the excited states\n",
    "weight = 100;"
   ]
  },
  {
   "cell_type": "markdown",
   "metadata": {},
   "source": [
    "# Define Hamiltonians"
   ]
  },
  {
   "cell_type": "markdown",
   "metadata": {},
   "source": [
    "### AKLT Hamiltonian"
   ]
  },
  {
   "cell_type": "code",
   "execution_count": 77,
   "metadata": {},
   "outputs": [
    {
     "data": {
      "text/plain": [
       "AKLT_Hamiltonian (generic function with 1 method)"
      ]
     },
     "metadata": {},
     "output_type": "display_data"
    }
   ],
   "source": [
    "function AKLT_Hamiltonian(N::Int64)\n",
    "\n",
    "    os = OpSum() \n",
    "    for j=1:N-1 \n",
    "        # S*S Terms\n",
    "        # Sz Sz\n",
    "        os += \"Sz\", j, \"Sz\", j+1\n",
    "\n",
    "        # S+ S- and S- S+\n",
    "        os += 1/2, \"S+\", j, \"S-\", j+1\n",
    "        os += 1/2, \"S-\", j, \"S+\", j+1\n",
    "\n",
    "        # Square terms in (S*S)^2\n",
    "        # (1/3) * (Sz Sz)^2 term\n",
    "        os += (1/3), \"Sz\", j, \"Sz\", j+1, \"Sz\", j, \"Sz\", j+1\n",
    "        # (1/3) * (1/4) (S+ S- S+ S-) term\n",
    "        os += (1/3) * (1/4), \"S+\", j, \"S-\", j+1, \"S+\", j, \"S-\", j+1\n",
    "        os += (1/3) * (1/4), \"S-\", j, \"S+\", j+1, \"S-\", j, \"S+\", j+1\n",
    "\n",
    "        # Cross terms in (S*S)^2\n",
    "        # (1/3) * (1/2) Sz Sz S+ S- terms\n",
    "        os += (1/3) * (1/2), \"Sz\", j, \"Sz\", j+1, \"S+\", j, \"S-\", j+1\n",
    "        os += (1/3) * (1/2), \"S+\", j, \"S-\", j+1, \"Sz\", j, \"Sz\", j+1\n",
    "\n",
    "        # (1/3) * (1/2) Sz Sz S- S+ terms\n",
    "        os += (1/3) * (1/2), \"Sz\", j, \"Sz\", j+1, \"S-\", j, \"S+\", j+1\n",
    "        os += (1/3) * (1/2), \"S-\", j, \"S+\", j+1, \"Sz\", j, \"Sz\", j+1\n",
    "\n",
    "        # (1/3) * (1/4) S+ S- S- S+ terms\n",
    "        os += (1/3) * (1/4), \"S+\", j, \"S-\", j+1, \"S-\", j, \"S+\", j+1\n",
    "        os += (1/3) * (1/4), \"S-\", j, \"S+\", j+1, \"S+\", j, \"S-\", j+1\n",
    "    end\n",
    "\n",
    "    return os\n",
    "end"
   ]
  },
  {
   "cell_type": "markdown",
   "metadata": {},
   "source": [
    "### Heisenberg Hamiltonian"
   ]
  },
  {
   "cell_type": "code",
   "execution_count": 78,
   "metadata": {},
   "outputs": [
    {
     "data": {
      "text/plain": [
       "Heisenberg_Hamiltonian (generic function with 1 method)"
      ]
     },
     "metadata": {},
     "output_type": "display_data"
    }
   ],
   "source": [
    "function Heisenberg_Hamiltonian(N::Int64, J::Any)\n",
    "    \"\"\"\n",
    "    This function is used to generate Hamiltonian with Opsum of the Heisenberg model\n",
    "    N: the number of sites\n",
    "    J: J coupling\n",
    "    \"\"\"\n",
    "    os = OpSum()\n",
    "    for n=1:N-1\n",
    "        os += J, \"Sz\",n,\"Sz\",n+1\n",
    "        os += J/2, \"S+\", n, \"S-\", n+1\n",
    "        os += J/2, \"S-\", n, \"S+\", n+1\n",
    "    end\n",
    "\n",
    "    # periodic boundary conditions (PBCs)\n",
    "    #os += J, \"Sz\",1,\"Sz\",N\n",
    "    #os += J/2, \"S+\", 1, \"S-\", N\n",
    "    #os += J/2, \"S-\", 1, \"S+\", N\n",
    "\n",
    "    return os\n",
    "end"
   ]
  },
  {
   "cell_type": "markdown",
   "metadata": {},
   "source": [
    "# AKLT Simulation"
   ]
  },
  {
   "cell_type": "markdown",
   "metadata": {},
   "source": [
    "### DMRG Parameters"
   ]
  },
  {
   "cell_type": "code",
   "execution_count": 79,
   "metadata": {},
   "outputs": [],
   "source": [
    "BondDims = [10, 20, 40, D_max];\n",
    "cutoff = [1e-10];\n",
    "noise = [1e-7, 1e-8, 1e-10, 0, 1e-11, 1e-10, 1e-9, 1e-11, 0];"
   ]
  },
  {
   "cell_type": "markdown",
   "metadata": {},
   "source": [
    "### Site and State Initialization"
   ]
  },
  {
   "cell_type": "code",
   "execution_count": 80,
   "metadata": {},
   "outputs": [
    {
     "data": {
      "text/plain": [
       "3-element Vector{Index{Int64}}:\n",
       " (dim=3|id=946|\"S=1,Site,n=1\")\n",
       " (dim=3|id=920|\"S=1,Site,n=2\")\n",
       " (dim=3|id=353|\"S=1,Site,n=3\")"
      ]
     },
     "metadata": {},
     "output_type": "display_data"
    }
   ],
   "source": [
    "# Define site according to the spin type \n",
    "if S == 0.5\n",
    "    sites = siteinds(\"S=1/2\",N);\n",
    " elseif S == 1\n",
    "    sites = siteinds(\"S=1\",N);\n",
    " else\n",
    "    println(\"Other spin model currently not available :(\");\n",
    " end"
   ]
  },
  {
   "cell_type": "code",
   "execution_count": 81,
   "metadata": {},
   "outputs": [
    {
     "data": {
      "text/plain": [
       "InitMPS (generic function with 1 method)"
      ]
     },
     "metadata": {},
     "output_type": "display_data"
    }
   ],
   "source": [
    "function InitMPS(linkdim::Int, K::Int, WaveType::String, sites::Vector{Index{Int64}})\n",
    "    # Create an array containing all the states we want to calculate \n",
    "    psi_arr = []\n",
    "   \n",
    "    if WaveType == \"random\"\n",
    "       println(\"start with random states\")\n",
    "       for m = 1:K\n",
    "           # Generate a random MPS\n",
    "           psi_m = randomMPS(sites; linkdims = linkdim)\n",
    "           # Add the new MPS to the array\n",
    "           push!(psi_arr, psi_m)\n",
    "       end\n",
    "    else\n",
    "       println(\"which initial states?!\")\n",
    "    end\n",
    "    return psi_arr\n",
    "end"
   ]
  },
  {
   "cell_type": "code",
   "execution_count": 82,
   "metadata": {},
   "outputs": [
    {
     "name": "stdout",
     "output_type": "stream",
     "text": [
      "start with random states\n"
     ]
    }
   ],
   "source": [
    "# Create a random array of MPS using the function we just defined\n",
    "psi_initials = InitMPS(10, max_states, \"random\", sites);\n",
    "\n",
    "# Create a AKLT Hamiltonian MPO\n",
    "os = AKLT_Hamiltonian(N);\n",
    "H_AKLT = MPO(os, sites);\n",
    "\n",
    "# Define an observer to control the energy tolerance\n",
    "obs = DMRGObserver([\"Sz\"], sites, energy_tol=1E-17);"
   ]
  },
  {
   "cell_type": "markdown",
   "metadata": {},
   "source": [
    "### Ground State Calculation"
   ]
  },
  {
   "cell_type": "code",
   "execution_count": 83,
   "metadata": {},
   "outputs": [
    {
     "name": "stdout",
     "output_type": "stream",
     "text": [
      "Start Calculating Groud State!\n",
      "After sweep 1 energy=-1.3333333333333333  maxlinkdim=9 maxerr=0.00E+00 time=0.040\n",
      "After sweep 2 energy=-1.3333333333333335  maxlinkdim=9 maxerr=0.00E+00 time=0.008\n",
      "After sweep 3 energy=-1.3333333333333333  maxlinkdim=9 maxerr=0.00E+00 time=0.008\n",
      "After sweep 4 energy=-1.3333333333333333  maxlinkdim=3 maxerr=8.19E-17 time=0.031\n",
      "Energy difference less than 1.0e-17, stopping DMRG\n",
      "The ground state energy is: -1.333333333333333\n"
     ]
    }
   ],
   "source": [
    "println(\"Start Calculating Groud State!\")\n",
    "\n",
    "# Use DMRG to calculate the ground state\n",
    "temp_energy, temp_psi = dmrg(H_AKLT, psi_initials[1], nsweeps=max_sweep, maxdim=BondDims, mindim=20, cutoff=cutoff, noise=noise, eigsolve_krylovdim=9, observer = obs);\n",
    "\n",
    "# Calculate the norm of optimized ground state MPS\n",
    "norm = inner(temp_psi, temp_psi);\n",
    "\n",
    "# Calculate the normalized ground state energy\n",
    "energy = temp_energy/norm;\n",
    "println(\"The ground state energy is: \", energy)"
   ]
  },
  {
   "cell_type": "markdown",
   "metadata": {},
   "source": [
    "### Calculate Excited States"
   ]
  },
  {
   "cell_type": "code",
   "execution_count": 84,
   "metadata": {},
   "outputs": [
    {
     "name": "stdout",
     "output_type": "stream",
     "text": [
      "Start Calculating the 1^th Excited State!\n",
      "After sweep 1 energy=-1.3333333333333333  maxlinkdim=9 maxerr=0.00E+00 time=0.015\n",
      "Energy difference less than 1.0e-17, stopping DMRG\n",
      "The 1^th excited state energy is-1.333333333333333\n",
      "Start Calculating the 2^th Excited State!\n",
      "After sweep 1 energy=-1.3333333333333335  maxlinkdim=9 maxerr=0.00E+00 time=0.006\n",
      "After sweep 2 energy=-1.3333333333333333  maxlinkdim=9 maxerr=0.00E+00 time=0.004\n",
      "After sweep 3 energy=-1.3333333333333335  maxlinkdim=9 maxerr=0.00E+00 time=0.011\n",
      "After sweep 4 energy=-1.3333333333333333  maxlinkdim=3 maxerr=3.83E-17 time=0.014\n",
      "After sweep 5 energy=-1.3333333333333335  maxlinkdim=9 maxerr=0.00E+00 time=0.012\n",
      "After sweep 6 energy=-1.3333333333333333  maxlinkdim=9 maxerr=0.00E+00 time=0.015\n",
      "After sweep 7 energy=-1.3333333333333335  maxlinkdim=9 maxerr=0.00E+00 time=0.027\n",
      "After sweep 8 energy=-1.333333333333334  maxlinkdim=9 maxerr=0.00E+00 time=0.022\n",
      "After sweep 9 energy=-1.333333333333333  maxlinkdim=3 maxerr=7.94E-17 time=0.184\n",
      "After sweep 10 energy=-1.3333333333333337  maxlinkdim=3 maxerr=7.46E-18 time=0.004\n",
      "After sweep 11 energy=-1.3333333333333333  maxlinkdim=3 maxerr=1.08E-16 time=0.004\n",
      "After sweep 12 energy=-1.333333333333333  maxlinkdim=3 maxerr=3.81E-17 time=0.004\n",
      "After sweep 13 energy=-1.3333333333333337  maxlinkdim=3 maxerr=0.00E+00 time=0.004\n",
      "After sweep 14 energy=-1.3333333333333335  maxlinkdim=3 maxerr=1.13E-16 time=0.003\n",
      "After sweep 15 energy=-1.333333333333333  maxlinkdim=3 maxerr=5.48E-17 time=0.003\n",
      "After sweep 16 energy=-1.333333333333333  maxlinkdim=3 maxerr=8.77E-18 time=0.004\n",
      "Energy difference less than 1.0e-17, stopping DMRG\n",
      "The 2^th excited state energy is-1.3333333333333328\n",
      "Start Calculating the 3^th Excited State!\n",
      "After sweep 1 energy=-1.3333333333333335  maxlinkdim=9 maxerr=0.00E+00 time=0.005\n",
      "After sweep 2 energy=-1.3333333333333337  maxlinkdim=9 maxerr=0.00E+00 time=0.004\n",
      "After sweep 3 energy=-1.3333333333333335  maxlinkdim=9 maxerr=0.00E+00 time=0.005\n",
      "After sweep 4 energy=-1.3333333333333333  maxlinkdim=3 maxerr=2.57E-17 time=0.009\n",
      "After sweep 5 energy=-1.3333333333333335  maxlinkdim=9 maxerr=0.00E+00 time=0.005\n",
      "After sweep 6 energy=-1.3333333333333335  maxlinkdim=9 maxerr=0.00E+00 time=0.004\n",
      "Energy difference less than 1.0e-17, stopping DMRG\n",
      "The 3^th excited state energy is-1.3333333333333326\n"
     ]
    }
   ],
   "source": [
    "# Store the result in the energy array\n",
    "energy_array = [energy];\n",
    "psi_array = [temp_psi];\n",
    "\n",
    "for m = 2:max_states\n",
    "  println(\"Start Calculating the $(m-1)^th Excited State!\")\n",
    "\n",
    "  # Caculate the m^th excited state\n",
    "  temp_energy, temp_psi = dmrg(H_AKLT, psi_array[1:m-1], psi_initials[m]; nsweeps=max_sweep, maxdim=BondDims, mindim=20, cutoff=cutoff, noise=noise, weight=weight, eigsolve_krylovdim=9, observer=obs);\n",
    "  norm = inner(temp_psi, temp_psi);\n",
    "  energy = temp_energy/norm;\n",
    "  println(\"The $(m-1)^th excited state energy is\", energy)\n",
    "\n",
    "  # Store the resulting state and energy\n",
    "  push!(psi_array, temp_psi);\n",
    "  push!(energy_array, energy);\n",
    "end"
   ]
  },
  {
   "cell_type": "code",
   "execution_count": 85,
   "metadata": {},
   "outputs": [
    {
     "name": "stdout",
     "output_type": "stream",
     "text": [
      "[-1.333333333333333, -1.333333333333333, -1.3333333333333328, -1.3333333333333326]\n"
     ]
    }
   ],
   "source": [
    "println(energy_array)"
   ]
  },
  {
   "cell_type": "code",
   "execution_count": null,
   "metadata": {},
   "outputs": [],
   "source": []
  }
 ],
 "metadata": {
  "kernelspec": {
   "display_name": "Julia 1.10.4",
   "language": "julia",
   "name": "julia-1.10"
  },
  "language_info": {
   "file_extension": ".jl",
   "mimetype": "application/julia",
   "name": "julia",
   "version": "1.10.4"
  }
 },
 "nbformat": 4,
 "nbformat_minor": 2
}
