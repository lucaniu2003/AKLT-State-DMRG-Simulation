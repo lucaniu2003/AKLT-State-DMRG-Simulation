{
 "cells": [
  {
   "cell_type": "code",
   "execution_count": 1,
   "metadata": {},
   "outputs": [],
   "source": [
    "using ITensors\n",
    "using ITensorMPS\n",
    "using DataFrames\n",
    "using CSV"
   ]
  },
  {
   "cell_type": "markdown",
   "metadata": {},
   "source": [
    "# Define Parameters"
   ]
  },
  {
   "cell_type": "code",
   "execution_count": 36,
   "metadata": {},
   "outputs": [],
   "source": [
    "# Site number N \n",
    "N = 80;\n",
    "\n",
    "# Spin quantum number S \n",
    "S = 1/2;\n",
    "\n",
    "# Max number of sweeps\n",
    "max_sweep = 150;\n",
    "\n",
    "# Max number of bond dimensions\n",
    "D_max = 60;\n",
    "\n",
    "# Max number of excited states calculated\n",
    "max_states = 1;\n",
    "\n",
    "# Penalty weight when calculating the excited states\n",
    "weight = 100;\n",
    "\n",
    "# DMRG algorithm parameters\n",
    "BondDims = [10, 20, 40, D_max];\n",
    "cutoff = [1e-10];\n",
    "noise = [1e-7, 1e-8, 1e-10, 0, 1e-11, 1e-10, 1e-9, 1e-11, 0];"
   ]
  },
  {
   "cell_type": "code",
   "execution_count": 37,
   "metadata": {},
   "outputs": [],
   "source": [
    "# Define operators for spin 3/2\n",
    "ITensors.space(::SiteType\"S=3/2\") = 4\n",
    "\n",
    "ITensors.op(::OpName\"Sz\",::SiteType\"S=3/2\") =\n",
    "  [+3/2   0    0    0\n",
    "     0  +1/2   0    0\n",
    "     0    0  -1/2   0\n",
    "     0    0    0  -3/2]\n",
    "\n",
    "ITensors.op(::OpName\"S+\",::SiteType\"S=3/2\") =\n",
    "  [0  √3  0  0\n",
    "   0   0  2  0\n",
    "   0   0  0 √3\n",
    "   0   0  0  0]\n",
    "\n",
    "ITensors.op(::OpName\"S-\",::SiteType\"S=3/2\") =\n",
    "  [0   0  0   0\n",
    "   √3  0  0   0\n",
    "   0   2  0   0\n",
    "   0   0  √3  0]"
   ]
  },
  {
   "cell_type": "code",
   "execution_count": 38,
   "metadata": {},
   "outputs": [],
   "source": [
    "# Define the site space for spin 2\n",
    "ITensors.space(::SiteType\"S=2\") = 5\n",
    "\n",
    "# Define the Sz operator for spin 2\n",
    "ITensors.op(::OpName\"Sz\", ::SiteType\"S=2\") = [\n",
    "  2  0  0  0  0\n",
    "  0  1  0  0  0\n",
    "  0  0  0  0  0\n",
    "  0  0  0 -1  0\n",
    "  0  0  0  0 -2\n",
    "]\n",
    "\n",
    "# Define the S+ operator for spin 2\n",
    "ITensors.op(::OpName\"S+\", ::SiteType\"S=2\") = [\n",
    "  0  2    0     0     0\n",
    "  0  0   √6     0     0\n",
    "  0  0    0    √6     0\n",
    "  0  0    0     0     2\n",
    "  0  0    0     0     0\n",
    "]\n",
    "\n",
    "# Define the S- operator for spin 2\n",
    "ITensors.op(::OpName\"S-\", ::SiteType\"S=2\") = [\n",
    "  0     0     0     0  0\n",
    "  2     0     0     0  0\n",
    "  0    √6     0     0  0\n",
    "  0     0    √6     0  0\n",
    "  0     0     0     2  0\n",
    "]\n"
   ]
  },
  {
   "cell_type": "markdown",
   "metadata": {},
   "source": [
    "# Define Hamiltonians (Spin 1/2 and 1)"
   ]
  },
  {
   "cell_type": "markdown",
   "metadata": {},
   "source": [
    "### AKLT Hamiltonian"
   ]
  },
  {
   "cell_type": "code",
   "execution_count": 39,
   "metadata": {},
   "outputs": [
    {
     "data": {
      "text/plain": [
       "AKLT_Hamiltonian (generic function with 1 method)"
      ]
     },
     "metadata": {},
     "output_type": "display_data"
    }
   ],
   "source": [
    "function AKLT_Hamiltonian(N::Int64)\n",
    "\n",
    "    os = OpSum() \n",
    "    for j=1:N-1 \n",
    "        # S*S Terms\n",
    "        # Sz Sz\n",
    "        os += \"Sz\", j, \"Sz\", j+1\n",
    "\n",
    "        # S+ S- and S- S+\n",
    "        os += 1/2, \"S+\", j, \"S-\", j+1\n",
    "        os += 1/2, \"S-\", j, \"S+\", j+1\n",
    "\n",
    "        # Square terms in (S*S)^2\n",
    "        # (1/3) * (Sz Sz)^2 term\n",
    "        os += (1/3), \"Sz\", j, \"Sz\", j+1, \"Sz\", j, \"Sz\", j+1\n",
    "        # (1/3) * (1/4) (S+ S- S+ S-) term\n",
    "        os += (1/3) * (1/4), \"S+\", j, \"S-\", j+1, \"S+\", j, \"S-\", j+1\n",
    "        os += (1/3) * (1/4), \"S-\", j, \"S+\", j+1, \"S-\", j, \"S+\", j+1\n",
    "\n",
    "        # Cross terms in (S*S)^2\n",
    "        # (1/3) * (1/2) Sz Sz S+ S- terms\n",
    "        os += (1/3) * (1/2), \"Sz\", j, \"Sz\", j+1, \"S+\", j, \"S-\", j+1\n",
    "        os += (1/3) * (1/2), \"S+\", j, \"S-\", j+1, \"Sz\", j, \"Sz\", j+1\n",
    "\n",
    "        # (1/3) * (1/2) Sz Sz S- S+ terms\n",
    "        os += (1/3) * (1/2), \"Sz\", j, \"Sz\", j+1, \"S-\", j, \"S+\", j+1\n",
    "        os += (1/3) * (1/2), \"S-\", j, \"S+\", j+1, \"Sz\", j, \"Sz\", j+1\n",
    "\n",
    "        # (1/3) * (1/4) S+ S- S- S+ terms\n",
    "        os += (1/3) * (1/4), \"S+\", j, \"S-\", j+1, \"S-\", j, \"S+\", j+1\n",
    "        os += (1/3) * (1/4), \"S-\", j, \"S+\", j+1, \"S+\", j, \"S-\", j+1\n",
    "    end\n",
    "\n",
    "    return os\n",
    "end"
   ]
  },
  {
   "cell_type": "markdown",
   "metadata": {},
   "source": [
    "### Heisenberg Hamiltonian"
   ]
  },
  {
   "cell_type": "code",
   "execution_count": 40,
   "metadata": {},
   "outputs": [
    {
     "data": {
      "text/plain": [
       "Heisenberg_Hamiltonian (generic function with 1 method)"
      ]
     },
     "metadata": {},
     "output_type": "display_data"
    }
   ],
   "source": [
    "function Heisenberg_Hamiltonian(N::Int64, J::Any)\n",
    "    \"\"\"\n",
    "    This function is used to generate Hamiltonian with Opsum of the Heisenberg model\n",
    "    N: the number of sites\n",
    "    J: J coupling\n",
    "    \"\"\"\n",
    "    os = OpSum()\n",
    "    for n=1:N-1\n",
    "        os += J, \"Sz\",n,\"Sz\",n+1\n",
    "        os += J/2, \"S+\", n, \"S-\", n+1\n",
    "        os += J/2, \"S-\", n, \"S+\", n+1\n",
    "    end\n",
    "\n",
    "    # periodic boundary conditions (PBCs)\n",
    "    #os += J, \"Sz\",1,\"Sz\",N\n",
    "    #os += J/2, \"S+\", 1, \"S-\", N\n",
    "    #os += J/2, \"S-\", 1, \"S+\", N\n",
    "\n",
    "    return os\n",
    "end"
   ]
  },
  {
   "cell_type": "markdown",
   "metadata": {},
   "source": [
    "# AKLT Simulation"
   ]
  },
  {
   "cell_type": "markdown",
   "metadata": {},
   "source": [
    "### DMRG Parameters"
   ]
  },
  {
   "cell_type": "markdown",
   "metadata": {},
   "source": [
    "### Site and State Initialization"
   ]
  },
  {
   "cell_type": "code",
   "execution_count": 41,
   "metadata": {},
   "outputs": [
    {
     "data": {
      "text/plain": [
       "80-element Vector{Index{Int64}}:\n",
       " (dim=2|id=152|\"S=1/2,Site,n=1\")\n",
       " (dim=2|id=115|\"S=1/2,Site,n=2\")\n",
       " (dim=2|id=890|\"S=1/2,Site,n=3\")\n",
       " (dim=2|id=758|\"S=1/2,Site,n=4\")\n",
       " (dim=2|id=840|\"S=1/2,Site,n=5\")\n",
       " (dim=2|id=343|\"S=1/2,Site,n=6\")\n",
       " (dim=2|id=211|\"S=1/2,Site,n=7\")\n",
       " (dim=2|id=934|\"S=1/2,Site,n=8\")\n",
       " (dim=2|id=58|\"S=1/2,Site,n=9\")\n",
       " (dim=2|id=456|\"S=1/2,Site,n=10\")\n",
       " ⋮\n",
       " (dim=2|id=400|\"S=1/2,Site,n=72\")\n",
       " (dim=2|id=658|\"S=1/2,Site,n=73\")\n",
       " (dim=2|id=560|\"S=1/2,Site,n=74\")\n",
       " (dim=2|id=100|\"S=1/2,Site,n=75\")\n",
       " (dim=2|id=280|\"S=1/2,Site,n=76\")\n",
       " (dim=2|id=669|\"S=1/2,Site,n=77\")\n",
       " (dim=2|id=786|\"S=1/2,Site,n=78\")\n",
       " (dim=2|id=32|\"S=1/2,Site,n=79\")\n",
       " (dim=2|id=634|\"S=1/2,Site,n=80\")"
      ]
     },
     "metadata": {},
     "output_type": "display_data"
    }
   ],
   "source": [
    "# Define site according to the spin type \n",
    "if S == 0.5\n",
    "   sites = siteinds(\"S=1/2\",N);\n",
    "elseif S == 1\n",
    "   sites = siteinds(\"S=1\",N);\n",
    "elseif S == 3/2\n",
    "   sites = siteinds(\"S=3/2\",N);\n",
    "elseif S == 2\n",
    "   sites = siteinds(\"S=2\",N);\n",
    "else\n",
    "   println(\"Other spin model currently not available :(\");\n",
    "end"
   ]
  },
  {
   "cell_type": "code",
   "execution_count": 42,
   "metadata": {},
   "outputs": [
    {
     "data": {
      "text/plain": [
       "InitMPS (generic function with 1 method)"
      ]
     },
     "metadata": {},
     "output_type": "display_data"
    }
   ],
   "source": [
    "function InitMPS(linkdim::Int, K::Int, WaveType::String, sites::Vector{Index{Int64}})\n",
    "    # Create an array containing all the states we want to calculate \n",
    "    psi_arr = []\n",
    "   \n",
    "    if WaveType == \"random\"\n",
    "       println(\"start with random states\")\n",
    "       for m = 1:K\n",
    "           # Generate a random MPS\n",
    "           psi_m = randomMPS(sites; linkdims = linkdim)\n",
    "           # Add the new MPS to the array\n",
    "           push!(psi_arr, psi_m)\n",
    "       end\n",
    "    else\n",
    "       println(\"which initial states?!\")\n",
    "    end\n",
    "    return psi_arr\n",
    "end"
   ]
  },
  {
   "cell_type": "code",
   "execution_count": 43,
   "metadata": {},
   "outputs": [
    {
     "name": "stdout",
     "output_type": "stream",
     "text": [
      "start with random states\n"
     ]
    }
   ],
   "source": [
    "# Create a random array of MPS using the function we just defined\n",
    "psi_initials = InitMPS(10, max_states, \"random\", sites);\n",
    "\n",
    "# Create a AKLT Hamiltonian MPO\n",
    "os = Heisenberg_Hamiltonian(N,1);\n",
    "H = MPO(os, sites);\n",
    "\n",
    "# Define an observer to control the energy tolerance\n",
    "obs = DMRGObserver([\"Sz\"], sites, energy_tol=1E-9);"
   ]
  },
  {
   "cell_type": "markdown",
   "metadata": {},
   "source": [
    "### Ground State Calculation"
   ]
  },
  {
   "cell_type": "code",
   "execution_count": 44,
   "metadata": {},
   "outputs": [
    {
     "name": "stdout",
     "output_type": "stream",
     "text": [
      "Start Calculating Groud State!\n",
      "After sweep 1 energy=-35.24443089392627  maxlinkdim=10 maxerr=1.68E-03 time=0.357\n",
      "After sweep 2 energy=-35.26477018152224  maxlinkdim=20 maxerr=9.07E-07 time=0.531\n",
      "After sweep 3 energy=-35.26523204423921  maxlinkdim=40 maxerr=3.43E-08 time=1.600\n",
      "After sweep 4 energy=-35.26523701059902  maxlinkdim=80 maxerr=2.71E-10 time=4.012\n",
      "After sweep 5 energy=-35.26523701339895  maxlinkdim=80 maxerr=3.57E-10 time=5.929\n",
      "After sweep 6 energy=-35.2652370133923  maxlinkdim=80 maxerr=3.59E-10 time=5.815\n",
      "Energy difference less than 1.0e-9, stopping DMRG\n",
      "The ground state energy is: -35.26523701339225\n"
     ]
    }
   ],
   "source": [
    "println(\"Start Calculating Groud State!\")\n",
    "\n",
    "# Use DMRG to calculate the ground state\n",
    "temp_energy, temp_psi = dmrg(H, psi_initials[1], nsweeps=max_sweep, maxdim=BondDims, mindim=20, cutoff=cutoff, noise=noise, eigsolve_krylovdim=11, observer = obs);\n",
    "\n",
    "# Calculate the norm of optimized ground state MPS\n",
    "norm = inner(temp_psi, temp_psi);\n",
    "\n",
    "# Calculate the normalized ground state energy\n",
    "energy = temp_energy/norm;\n",
    "println(\"The ground state energy is: \", energy)"
   ]
  },
  {
   "cell_type": "markdown",
   "metadata": {},
   "source": [
    "### Ground State Correlation Matrix"
   ]
  },
  {
   "cell_type": "code",
   "execution_count": 45,
   "metadata": {},
   "outputs": [
    {
     "data": {
      "text/plain": [
       "80×80 Matrix{Float64}:\n",
       "  0.25         -0.217226      0.0665577    …   0.000558469  -0.000865527\n",
       " -0.217226      0.25         -0.0987777       -0.000360345   0.000558466\n",
       "  0.0665577    -0.0987777     0.25             0.000676918  -0.0010491\n",
       " -0.0720227     0.05499      -0.187432        -0.000494906   0.000766999\n",
       "  0.037155     -0.0308172     0.0627564        0.000765945  -0.00118706\n",
       " -0.0414573     0.0290498    -0.0654083    …  -0.000591704   0.000916997\n",
       "  0.0252256    -0.0183636     0.035994         0.000841605  -0.0013043\n",
       " -0.0283545     0.019221     -0.0394918       -0.000671967   0.00104136\n",
       "  0.0188216    -0.0130319     0.0251496        0.000910131  -0.00141047\n",
       " -0.0211826     0.0141249    -0.0279891       -0.000743358   0.00115195\n",
       "  ⋮                                        ⋱                \n",
       " -0.00141044    0.000910105  -0.00170973      -0.0130319     0.0188216\n",
       "  0.00104134   -0.000671952   0.00126229       0.019221     -0.0283545\n",
       " -0.00130427    0.00084158   -0.00158097      -0.0183636     0.0252256\n",
       "  0.000916977  -0.000591688   0.0011115        0.0290498    -0.0414573\n",
       " -0.00118703    0.000765923  -0.00143883   …  -0.0308172     0.037155\n",
       "  0.000766988  -0.000494896   0.000929676      0.05499      -0.0720227\n",
       " -0.00104908    0.000676902  -0.00127159      -0.0987777     0.0665577\n",
       "  0.000558469  -0.000360345   0.000676918      0.25         -0.217226\n",
       " -0.000865527   0.000558466  -0.0010491       -0.217226      0.25"
      ]
     },
     "metadata": {},
     "output_type": "display_data"
    }
   ],
   "source": [
    "# Calculate correlation matrix\n",
    "Corr = correlation_matrix(temp_psi, \"Sz\", \"Sz\")"
   ]
  },
  {
   "cell_type": "code",
   "execution_count": 46,
   "metadata": {},
   "outputs": [
    {
     "name": "stdout",
     "output_type": "stream",
     "text": [
      "Correlation matrix has been exported to correlation_matrix.csv :3\n"
     ]
    }
   ],
   "source": [
    "# Convert the matrix to a DataFrame\n",
    "df = DataFrame(Corr, :auto)\n",
    "\n",
    "# Export the DataFrame to a CSV file\n",
    "CSV.write(\"correlation_matrix.csv\", df)\n",
    "\n",
    "println(\"Correlation matrix has been exported to correlation_matrix.csv :3\")"
   ]
  },
  {
   "cell_type": "markdown",
   "metadata": {},
   "source": [
    "### Entanglement Entropy"
   ]
  },
  {
   "cell_type": "code",
   "execution_count": null,
   "metadata": {},
   "outputs": [],
   "source": []
  }
 ],
 "metadata": {
  "kernelspec": {
   "display_name": "Julia 1.10.4",
   "language": "julia",
   "name": "julia-1.10"
  },
  "language_info": {
   "file_extension": ".jl",
   "mimetype": "application/julia",
   "name": "julia",
   "version": "1.10.4"
  }
 },
 "nbformat": 4,
 "nbformat_minor": 2
}
